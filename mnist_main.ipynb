{
 "cells": [
  {
   "cell_type": "code",
   "execution_count": 1,
   "metadata": {
    "collapsed": false
   },
   "outputs": [],
   "source": [
    "#\n",
    "#\n",
    "\n",
    "from __future__ import absolute_import\n",
    "from __future__ import division\n",
    "from __future__ import print_function\n",
    "\n",
    "import os\n",
    "import time\n",
    "import logging\n",
    "logger = logging.getLogger()\n",
    "logger.setLevel(\"DEBUG\")\n",
    "\n",
    "import numpy as np\n",
    "import tensorflow as tf\n",
    "\n",
    "import model\n",
    "\n",
    "from tensorflow.examples.tutorials.mnist import input_data"
   ]
  },
  {
   "cell_type": "code",
   "execution_count": 2,
   "metadata": {
    "collapsed": true
   },
   "outputs": [],
   "source": [
    "sess_config = tf.ConfigProto()\n",
    "sess_config.gpu_options.allow_growth = True"
   ]
  },
  {
   "cell_type": "code",
   "execution_count": 3,
   "metadata": {
    "collapsed": true
   },
   "outputs": [],
   "source": [
    "def evaluation(y_pred, y):\n",
    "    correct = tf.equal(tf.argmax(y_pred, 1), tf.argmax(y, 1))\n",
    "    accuracy = tf.reduce_mean(tf.cast(correct, tf.float32))\n",
    "    \n",
    "    return accuracy"
   ]
  },
  {
   "cell_type": "code",
   "execution_count": 4,
   "metadata": {
    "collapsed": true
   },
   "outputs": [],
   "source": [
    "def mlogloss(predicted, actual):\n",
    "    '''\n",
    "      args.\n",
    "         predicted : predicted probability\n",
    "                    (sum of predicted proba should be 1.0)\n",
    "         actual    : actual value, label\n",
    "    '''\n",
    "    def inner_fn(item):\n",
    "        eps = 1.e-15\n",
    "        item1 = min(item, (1 - eps))\n",
    "        item1 = max(item, eps)\n",
    "        res = np.log(item1)\n",
    "\n",
    "        return res\n",
    "    \n",
    "    nrow = actual.shape[0]\n",
    "    ncol = actual.shape[1]\n",
    "\n",
    "    mysum = sum([actual[i, j] * inner_fn(predicted[i, j]) \n",
    "        for i in range(nrow) for j in range(ncol)])\n",
    "    \n",
    "    ans = -1 * mysum / nrow\n",
    "    \n",
    "    return ans"
   ]
  },
  {
   "cell_type": "code",
   "execution_count": 5,
   "metadata": {
    "collapsed": false
   },
   "outputs": [
    {
     "name": "stdout",
     "output_type": "stream",
     "text": [
      "Extracting ../MNIST_data/train-images-idx3-ubyte.gz\n",
      "Extracting"
     ]
    },
    {
     "name": "stderr",
     "output_type": "stream",
     "text": [
      "DEBUG:ops:[conv2d_none] conv_1 : Reshape:0 (?, 28, 28, 1) -> conv_1/outputs_with_fn:0 (?, 28, 28, 32)\n",
      "DEBUG:ops:[maxpool2d] maxpool_1 : conv_1/outputs_with_fn:0 (?, 28, 28, 32) -> maxpool_1/maxpool:0 (?, 14, 14, 32)\n",
      "DEBUG:ops:[conv2d_none] conv_2 : maxpool_1/maxpool:0 (?, 14, 14, 32) -> conv_2/outputs_with_fn:0 (?, 14, 14, 64)\n",
      "DEBUG:ops:[maxpool2d] maxpool_2 : conv_2/outputs_with_fn:0 (?, 14, 14, 64) -> maxpool_2/maxpool:0 (?, 7, 7, 64)\n",
      "DEBUG:ops:[full_connected] full_connect_1 : Reshape_1:0 (?, 3136) -> full_connect_1/outputs_with_fn:0 (?, 1024)\n",
      "DEBUG:ops:[full_connected] readout : dropout/mul_1:0 (?, 1024) -> readout/outputs_with_fn:0 (?, 10)\n"
     ]
    },
    {
     "name": "stdout",
     "output_type": "stream",
     "text": [
      " ../MNIST_data/train-labels-idx1-ubyte.gz\n",
      "Extracting ../MNIST_data/t10k-images-idx3-ubyte.gz\n",
      "Extracting ../MNIST_data/t10k-labels-idx1-ubyte.gz\n",
      " accuracy =   0.9868\n",
      " multiclass logloss =   0.0454\n"
     ]
    }
   ],
   "source": [
    "mnist = input_data.read_data_sets(\"../MNIST_data/\", one_hot=True)\n",
    "chkpt_file = '../MNIST_data/mnist_cnn.ckpt'\n",
    "\n",
    "TASK = 'test'\n",
    "LEARNING_RATE = 0.0001\n",
    "\n",
    "with tf.Graph().as_default():\n",
    "    x = tf.placeholder(tf.float32, [None, 784])\n",
    "    y_ = tf.placeholder(tf.float32, [None, 10])\n",
    "    keep_prob = tf.placeholder(tf.float32)\n",
    "    phase_train = tf.placeholder(tf.bool, name='phase_train')\n",
    "\n",
    "    y_pred   = model.inference(x, keep_prob, phase_train)\n",
    "    accuracy = evaluation(y_pred, y_)\n",
    "    loss     = model.loss(y_pred, y_)\n",
    "    train_op = model.training(loss, LEARNING_RATE)\n",
    "    init_op  = tf.group(tf.initialize_all_variables(), tf.initialize_local_variables())\n",
    "\n",
    "    if TASK == 'test' or os.path.exists(chkpt_file):\n",
    "        restore_call = True\n",
    "    elif TASK == 'train':\n",
    "        restore_call = False\n",
    "    else:\n",
    "        print('Check task switch.')\n",
    "        \n",
    "    saver = tf.train.Saver()\n",
    "    \n",
    "    sess = tf.Session(config=sess_config)\n",
    "    if TASK == 'train':             \n",
    "        sess.run(init_op)                     \n",
    "\n",
    "    if restore_call:\n",
    "        # Restore variables from disk.\n",
    "        saver.restore(sess, chkpt_file)\n",
    "    if TASK == 'train':\n",
    "        print('\\n Training...')\n",
    "        total_train_loss = []\n",
    "        duration = 0\n",
    "        \n",
    "        for i in range(5001):\n",
    "            start_time = time.time()\n",
    "            batch_xs, batch_ys = mnist.train.next_batch(100)\n",
    "            _, loss_value, accuracy_value = sess.run([train_op, loss, accuracy], {x: batch_xs, y_: batch_ys, keep_prob: 0.5, phase_train: True})\n",
    "            duration += time.time() - start_time\n",
    "            total_train_loss.append(loss_value)\n",
    "\n",
    "            if (i % 100 == 0) and (i != 0):\n",
    "                print('step, loss, accuracy = %6d: %8.4f / %8.4f (%.3f sec)' % (i, np.mean(total_train_loss), accuracy_value, duration) )\n",
    "                \n",
    "    # Test trained model\n",
    "    test_loss, test_y_pred, test_accuracy_value = sess.run([loss, y_pred, accuracy],{x: mnist.test.images, y_: mnist.test.labels, keep_prob: 1.0, phase_train: False})\n",
    "    # Multiclass Log Loss\n",
    "    print(' accuracy = %8.4f' % test_accuracy_value)    \n",
    "    act = mnist.test.labels\n",
    "    print(' multiclass logloss = %8.4f' % mlogloss(test_y_pred, act))\n",
    "    \n",
    "    # Save the variables to disk.\n",
    "    if TASK == 'train':\n",
    "        save_path = saver.save(sess, chkpt_file)\n",
    "        print(\"Model saved in file: %s\" % save_path)\n",
    "    "
   ]
  },
  {
   "cell_type": "code",
   "execution_count": null,
   "metadata": {
    "collapsed": true
   },
   "outputs": [],
   "source": []
  }
 ],
 "metadata": {
  "kernelspec": {
   "display_name": "Python 2",
   "language": "python",
   "name": "python2"
  },
  "language_info": {
   "codemirror_mode": {
    "name": "ipython",
    "version": 2
   },
   "file_extension": ".py",
   "mimetype": "text/x-python",
   "name": "python",
   "nbconvert_exporter": "python",
   "pygments_lexer": "ipython2",
   "version": "2.7.6"
  }
 },
 "nbformat": 4,
 "nbformat_minor": 0
}
